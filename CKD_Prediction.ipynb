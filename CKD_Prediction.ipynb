{
  "metadata": {
    "language_info": {
      "name": ""
    },
    "kernelspec": {
      "name": "python",
      "display_name": "Python (Pyodide)",
      "language": "python"
    }
  },
  "nbformat_minor": 4,
  "nbformat": 4,
  "cells": [
    {
      "cell_type": "code",
      "source": "# Importing the required packages\nimport numpy as np\nimport pandas as pd\nfrom sklearn.metrics import confusion_matrix\nfrom sklearn.cross_validation import train_test_split\nfrom sklearn.tree import DecisionTreeClassifier\nfrom sklearn.metrics import accuracy_score\nfrom sklearn.metrics import classification_report\n ",
      "metadata": {
        "trusted": true
      },
      "execution_count": null,
      "outputs": []
    },
    {
      "cell_type": "code",
      "source": "\n# Function importing Dataset\ndef importdata():\n    balance_data = pd.read_csv('Preprocessed.csv', sep= ',', header = 0)\n     \n    # Printing the dataswet shape\n    print (\"Dataset Lenght: \", len(balance_data))\n    print (\"Dataset Shape: \", balance_data.shape)\n     \n    # Printing the dataset obseravtions\n    return balance_data\n ",
      "metadata": {
        "trusted": true
      },
      "execution_count": null,
      "outputs": []
    },
    {
      "cell_type": "code",
      "source": "# Function to split the dataset\ndef splitdataset(balance_data):\n \n    # Seperating the target variable\n    X = balance_data.values[:, 0:24]\n    Y = balance_data.values[:, -1]\n    \n    #print(X)\n    #print(Y)\n \n    # Spliting the dataset into train and test\n    X_train, X_test, y_train, y_test = train_test_split( \n    X, Y, test_size = 0.3, random_state = 100)\n     \n    return X, Y, X_train, X_test, y_train, y_test\n     ",
      "metadata": {
        "trusted": true
      },
      "execution_count": null,
      "outputs": []
    },
    {
      "cell_type": "code",
      "source": "    \n# Function to perform training with giniIndex.\ndef train_using_gini(X_train, X_test, y_train):\n \n    # Creating the classifier object\n    clf_gini = DecisionTreeClassifier(criterion = \"gini\",\n            random_state = 100,max_depth=3, min_samples_leaf=5)\n \n    # Performing training\n    clf_gini.fit(X_train, y_train)\n    return clf_gini",
      "metadata": {
        "trusted": true
      },
      "execution_count": null,
      "outputs": []
    },
    {
      "cell_type": "code",
      "source": "     \n# Function to perform training with entropy.\ndef tarin_using_entropy(X_train, X_test, y_train):\n \n    # Decision tree with entropy\n    clf_entropy = DecisionTreeClassifier(criterion = \"entropy\", random_state = 100,\n            max_depth = 3, min_samples_leaf = 5)\n \n    # Performing training\n    clf_entropy.fit(X_train, y_train)\n    return clf_entropy\n ",
      "metadata": {
        "trusted": true
      },
      "execution_count": null,
      "outputs": []
    },
    {
      "cell_type": "code",
      "source": " \n# Function to make predictions\ndef prediction(X_test, clf_object):\n \n    # Predicton on test with giniIndex\n    y_pred = clf_object.predict(X_test)\n    return y_pred\n     ",
      "metadata": {
        "trusted": true
      },
      "execution_count": null,
      "outputs": []
    },
    {
      "cell_type": "code",
      "source": "# Function to calculate accuracy\ndef cal_accuracy(y_test, y_pred):\n     \n    print(\"Confusion Matrix: \\n\",\n    confusion_matrix(y_test,y_pred))\n     \n    print (\"Accuracy : \",\n    accuracy_score(y_test,y_pred)*100)\n     \n    print(\"Report : \\n\",\n    classification_report(y_test, y_pred))\n \n",
      "metadata": {
        "trusted": true
      },
      "execution_count": null,
      "outputs": []
    },
    {
      "cell_type": "code",
      "source": "# Main code\ndef main():\n     \n    # Building Phase\n    data = importdata()\n    X, Y, X_train, X_test, y_train, y_test = splitdataset(data)\n    clf_gini = train_using_gini(X_train, X_test, y_train)\n    clf_entropy = tarin_using_entropy(X_train, X_test, y_train)\n     \n    # Operational Phase\n    print(\"Results Using Gini Index:\")\n     \n    # Prediction using gini\n    y_pred_gini = prediction(X_test, clf_gini)\n    cal_accuracy(y_test, y_pred_gini)\n     \n    print(\"Results Using Entropy:\")\n    # Prediction using entropy\n    y_pred_entropy = prediction(X_test, clf_entropy)\n    cal_accuracy(y_test, y_pred_entropy)\n     \n",
      "metadata": {
        "trusted": true
      },
      "execution_count": null,
      "outputs": []
    },
    {
      "cell_type": "code",
      "source": "     \n# Calling main function\nif __name__==\"__main__\":\n    main()",
      "metadata": {
        "trusted": true
      },
      "execution_count": null,
      "outputs": []
    },
    {
      "cell_type": "code",
      "source": "",
      "metadata": {},
      "execution_count": null,
      "outputs": []
    }
  ]
}