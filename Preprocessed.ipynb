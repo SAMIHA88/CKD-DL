{
  "metadata": {
    "language_info": {
      "codemirror_mode": {
        "name": "python",
        "version": 3
      },
      "file_extension": ".py",
      "mimetype": "text/x-python",
      "name": "python",
      "nbconvert_exporter": "python",
      "pygments_lexer": "ipython3",
      "version": "3.8"
    },
    "kernelspec": {
      "name": "python",
      "display_name": "Python (Pyodide)",
      "language": "python"
    }
  },
  "nbformat_minor": 4,
  "nbformat": 4,
  "cells": [
    {
      "cell_type": "code",
      "source": "import numpy as np\nimport pandas as pd",
      "metadata": {
        "trusted": true
      },
      "execution_count": 1,
      "outputs": []
    },
    {
      "cell_type": "code",
      "source": "# Read dataset file ckd.csv\ndataset = pd.read_csv(\"ckd.csv\",header=0, na_values=\"?\")\n",
      "metadata": {
        "trusted": true
      },
      "execution_count": 3,
      "outputs": []
    },
    {
      "cell_type": "code",
      "source": "\n# Replace null values \"?\" by numpy.NaN\ndataset.replace(\"?\", np.NaN)\n",
      "metadata": {
        "trusted": true
      },
      "execution_count": 4,
      "outputs": [
        {
          "execution_count": 4,
          "output_type": "execute_result",
          "data": {
            "text/plain": "      Age    Bp     Sg   Al   Su     Rbc        Pc         Pcc          Ba  \\\n0    48.0  80.0  1.020  1.0  0.0     NaN    normal  notpresent  notpresent   \n1     7.0  50.0  1.020  4.0  0.0     NaN    normal  notpresent  notpresent   \n2    62.0  80.0  1.010  2.0  3.0  normal    normal  notpresent  notpresent   \n3    48.0  70.0  1.005  4.0  0.0  normal  abnormal     present  notpresent   \n4    51.0  80.0  1.010  2.0  0.0  normal    normal  notpresent  notpresent   \n..    ...   ...    ...  ...  ...     ...       ...         ...         ...   \n395  55.0  80.0  1.020  0.0  0.0  normal    normal  notpresent  notpresent   \n396  42.0  70.0  1.025  0.0  0.0  normal    normal  notpresent  notpresent   \n397  12.0  80.0  1.020  0.0  0.0  normal    normal  notpresent  notpresent   \n398  17.0  60.0  1.025  0.0  0.0  normal    normal  notpresent  notpresent   \n399  58.0  80.0  1.025  0.0  0.0  normal    normal  notpresent  notpresent   \n\n       Bgr  ...   Pcv    Wbcc  Rbcc  Htn   Dm  Cad  Appet   pe  Ane   Class  \n0    121.0  ...  44.0  7800.0   5.2  yes  yes   no   good   no   no     ckd  \n1      NaN  ...  38.0  6000.0   NaN   no   no   no   good   no   no     ckd  \n2    423.0  ...  31.0  7500.0   NaN   no  yes   no   poor   no  yes     ckd  \n3    117.0  ...  32.0  6700.0   3.9  yes   no   no   poor  yes  yes     ckd  \n4    106.0  ...  35.0  7300.0   4.6   no   no   no   good   no   no     ckd  \n..     ...  ...   ...     ...   ...  ...  ...  ...    ...  ...  ...     ...  \n395  140.0  ...  47.0  6700.0   4.9   no   no   no   good   no   no  notckd  \n396   75.0  ...  54.0  7800.0   6.2   no   no   no   good   no   no  notckd  \n397  100.0  ...  49.0  6600.0   5.4   no   no   no   good   no   no  notckd  \n398  114.0  ...  51.0  7200.0   5.9   no   no   no   good   no   no  notckd  \n399  131.0  ...  53.0  6800.0   6.1   no   no   no   good   no   no  notckd  \n\n[400 rows x 25 columns]",
            "text/html": "<div>\n<style scoped>\n    .dataframe tbody tr th:only-of-type {\n        vertical-align: middle;\n    }\n\n    .dataframe tbody tr th {\n        vertical-align: top;\n    }\n\n    .dataframe thead th {\n        text-align: right;\n    }\n</style>\n<table border=\"1\" class=\"dataframe\">\n  <thead>\n    <tr style=\"text-align: right;\">\n      <th></th>\n      <th>Age</th>\n      <th>Bp</th>\n      <th>Sg</th>\n      <th>Al</th>\n      <th>Su</th>\n      <th>Rbc</th>\n      <th>Pc</th>\n      <th>Pcc</th>\n      <th>Ba</th>\n      <th>Bgr</th>\n      <th>...</th>\n      <th>Pcv</th>\n      <th>Wbcc</th>\n      <th>Rbcc</th>\n      <th>Htn</th>\n      <th>Dm</th>\n      <th>Cad</th>\n      <th>Appet</th>\n      <th>pe</th>\n      <th>Ane</th>\n      <th>Class</th>\n    </tr>\n  </thead>\n  <tbody>\n    <tr>\n      <th>0</th>\n      <td>48.0</td>\n      <td>80.0</td>\n      <td>1.020</td>\n      <td>1.0</td>\n      <td>0.0</td>\n      <td>NaN</td>\n      <td>normal</td>\n      <td>notpresent</td>\n      <td>notpresent</td>\n      <td>121.0</td>\n      <td>...</td>\n      <td>44.0</td>\n      <td>7800.0</td>\n      <td>5.2</td>\n      <td>yes</td>\n      <td>yes</td>\n      <td>no</td>\n      <td>good</td>\n      <td>no</td>\n      <td>no</td>\n      <td>ckd</td>\n    </tr>\n    <tr>\n      <th>1</th>\n      <td>7.0</td>\n      <td>50.0</td>\n      <td>1.020</td>\n      <td>4.0</td>\n      <td>0.0</td>\n      <td>NaN</td>\n      <td>normal</td>\n      <td>notpresent</td>\n      <td>notpresent</td>\n      <td>NaN</td>\n      <td>...</td>\n      <td>38.0</td>\n      <td>6000.0</td>\n      <td>NaN</td>\n      <td>no</td>\n      <td>no</td>\n      <td>no</td>\n      <td>good</td>\n      <td>no</td>\n      <td>no</td>\n      <td>ckd</td>\n    </tr>\n    <tr>\n      <th>2</th>\n      <td>62.0</td>\n      <td>80.0</td>\n      <td>1.010</td>\n      <td>2.0</td>\n      <td>3.0</td>\n      <td>normal</td>\n      <td>normal</td>\n      <td>notpresent</td>\n      <td>notpresent</td>\n      <td>423.0</td>\n      <td>...</td>\n      <td>31.0</td>\n      <td>7500.0</td>\n      <td>NaN</td>\n      <td>no</td>\n      <td>yes</td>\n      <td>no</td>\n      <td>poor</td>\n      <td>no</td>\n      <td>yes</td>\n      <td>ckd</td>\n    </tr>\n    <tr>\n      <th>3</th>\n      <td>48.0</td>\n      <td>70.0</td>\n      <td>1.005</td>\n      <td>4.0</td>\n      <td>0.0</td>\n      <td>normal</td>\n      <td>abnormal</td>\n      <td>present</td>\n      <td>notpresent</td>\n      <td>117.0</td>\n      <td>...</td>\n      <td>32.0</td>\n      <td>6700.0</td>\n      <td>3.9</td>\n      <td>yes</td>\n      <td>no</td>\n      <td>no</td>\n      <td>poor</td>\n      <td>yes</td>\n      <td>yes</td>\n      <td>ckd</td>\n    </tr>\n    <tr>\n      <th>4</th>\n      <td>51.0</td>\n      <td>80.0</td>\n      <td>1.010</td>\n      <td>2.0</td>\n      <td>0.0</td>\n      <td>normal</td>\n      <td>normal</td>\n      <td>notpresent</td>\n      <td>notpresent</td>\n      <td>106.0</td>\n      <td>...</td>\n      <td>35.0</td>\n      <td>7300.0</td>\n      <td>4.6</td>\n      <td>no</td>\n      <td>no</td>\n      <td>no</td>\n      <td>good</td>\n      <td>no</td>\n      <td>no</td>\n      <td>ckd</td>\n    </tr>\n    <tr>\n      <th>...</th>\n      <td>...</td>\n      <td>...</td>\n      <td>...</td>\n      <td>...</td>\n      <td>...</td>\n      <td>...</td>\n      <td>...</td>\n      <td>...</td>\n      <td>...</td>\n      <td>...</td>\n      <td>...</td>\n      <td>...</td>\n      <td>...</td>\n      <td>...</td>\n      <td>...</td>\n      <td>...</td>\n      <td>...</td>\n      <td>...</td>\n      <td>...</td>\n      <td>...</td>\n      <td>...</td>\n    </tr>\n    <tr>\n      <th>395</th>\n      <td>55.0</td>\n      <td>80.0</td>\n      <td>1.020</td>\n      <td>0.0</td>\n      <td>0.0</td>\n      <td>normal</td>\n      <td>normal</td>\n      <td>notpresent</td>\n      <td>notpresent</td>\n      <td>140.0</td>\n      <td>...</td>\n      <td>47.0</td>\n      <td>6700.0</td>\n      <td>4.9</td>\n      <td>no</td>\n      <td>no</td>\n      <td>no</td>\n      <td>good</td>\n      <td>no</td>\n      <td>no</td>\n      <td>notckd</td>\n    </tr>\n    <tr>\n      <th>396</th>\n      <td>42.0</td>\n      <td>70.0</td>\n      <td>1.025</td>\n      <td>0.0</td>\n      <td>0.0</td>\n      <td>normal</td>\n      <td>normal</td>\n      <td>notpresent</td>\n      <td>notpresent</td>\n      <td>75.0</td>\n      <td>...</td>\n      <td>54.0</td>\n      <td>7800.0</td>\n      <td>6.2</td>\n      <td>no</td>\n      <td>no</td>\n      <td>no</td>\n      <td>good</td>\n      <td>no</td>\n      <td>no</td>\n      <td>notckd</td>\n    </tr>\n    <tr>\n      <th>397</th>\n      <td>12.0</td>\n      <td>80.0</td>\n      <td>1.020</td>\n      <td>0.0</td>\n      <td>0.0</td>\n      <td>normal</td>\n      <td>normal</td>\n      <td>notpresent</td>\n      <td>notpresent</td>\n      <td>100.0</td>\n      <td>...</td>\n      <td>49.0</td>\n      <td>6600.0</td>\n      <td>5.4</td>\n      <td>no</td>\n      <td>no</td>\n      <td>no</td>\n      <td>good</td>\n      <td>no</td>\n      <td>no</td>\n      <td>notckd</td>\n    </tr>\n    <tr>\n      <th>398</th>\n      <td>17.0</td>\n      <td>60.0</td>\n      <td>1.025</td>\n      <td>0.0</td>\n      <td>0.0</td>\n      <td>normal</td>\n      <td>normal</td>\n      <td>notpresent</td>\n      <td>notpresent</td>\n      <td>114.0</td>\n      <td>...</td>\n      <td>51.0</td>\n      <td>7200.0</td>\n      <td>5.9</td>\n      <td>no</td>\n      <td>no</td>\n      <td>no</td>\n      <td>good</td>\n      <td>no</td>\n      <td>no</td>\n      <td>notckd</td>\n    </tr>\n    <tr>\n      <th>399</th>\n      <td>58.0</td>\n      <td>80.0</td>\n      <td>1.025</td>\n      <td>0.0</td>\n      <td>0.0</td>\n      <td>normal</td>\n      <td>normal</td>\n      <td>notpresent</td>\n      <td>notpresent</td>\n      <td>131.0</td>\n      <td>...</td>\n      <td>53.0</td>\n      <td>6800.0</td>\n      <td>6.1</td>\n      <td>no</td>\n      <td>no</td>\n      <td>no</td>\n      <td>good</td>\n      <td>no</td>\n      <td>no</td>\n      <td>notckd</td>\n    </tr>\n  </tbody>\n</table>\n<p>400 rows × 25 columns</p>\n</div>"
          },
          "metadata": {}
        }
      ]
    },
    {
      "cell_type": "code",
      "source": "\n# Convert nominal values to binary values\ncleanup = {\"Rbc\":     {\"normal\": 1, \"abnormal\": 0},\n           \"Pc\": {\"normal\": 1, \"abnormal\": 0},\n           \"Pcc\": {\"present\": 1, \"notpresent\": 0},\n           \"Ba\": {\"present\": 1, \"notpresent\": 0},\n           \"Htn\": {\"yes\": 1, \"no\": 0},\n           \"Dm\": {\"yes\": 1, \"no\": 0},\n           \"Cad\": {\"yes\": 1, \"no\": 0},\n           \"Appet\": {\"good\": 1, \"poor\": 0},\n           \"pe\": {\"yes\": 1, \"no\": 0},\n           \"Ane\": {\"yes\": 1, \"no\": 0}}",
      "metadata": {
        "trusted": true
      },
      "execution_count": 5,
      "outputs": []
    },
    {
      "cell_type": "code",
      "source": "\n# Replace binary values into dataset\ndataset.replace(cleanup, inplace=True)",
      "metadata": {
        "trusted": true
      },
      "execution_count": 6,
      "outputs": []
    },
    {
      "cell_type": "code",
      "source": "\n# Fill null values with mean value of the respective column\n\ndataset.fillna(round(dataset.mean(),2), inplace=True)\n",
      "metadata": {
        "trusted": true
      },
      "execution_count": 7,
      "outputs": [
        {
          "name": "stderr",
          "text": "<ipython-input-7-bd1d7dca9661>:3: FutureWarning: The default value of numeric_only in DataFrame.mean is deprecated. In a future version, it will default to False. In addition, specifying 'numeric_only=None' is deprecated. Select only valid columns or specify the value of numeric_only to silence this warning.\n  dataset.fillna(round(dataset.mean(),2), inplace=True)\n",
          "output_type": "stream"
        }
      ]
    },
    {
      "cell_type": "code",
      "source": "\n# Save this dataset as final.csv for further prediction\ndataset.to_csv(\"final.csv\", sep=',', index=False)",
      "metadata": {
        "trusted": true
      },
      "execution_count": 8,
      "outputs": []
    },
    {
      "cell_type": "code",
      "source": "",
      "metadata": {},
      "execution_count": null,
      "outputs": []
    }
  ]
}